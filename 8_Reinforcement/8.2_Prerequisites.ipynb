{
 "cells": [
  {
   "cell_type": "markdown",
   "metadata": {},
   "source": [
    "# Prerequisites\n",
    "\n",
    "> By Jonas Busk ([jbusk@dtu.dk](mailto:jbusk@dtu.dk))\n",
    "\n",
    "**2019 update:** Changes have been made to the display of environments due to the previous `viewer` being incompatible with newer versions of Gym.\n",
    "\n",
    "In this lab we will create neural network reinforcement learning agents with [PyTorch](https://pytorch.org/) to navigate various environments from [OpenAI Gym](https://gym.openai.com/) developed by [OpenAI](https://openai.com/).\n",
    "\n",
    "Please refer to the [docs](https://gym.openai.com/docs/) on how to get started with Gym. You are also encouraged to take a look at this short [post on the OpenAI blog](https://blog.openai.com/openai-gym-beta/)."
   ]
  },
  {
   "cell_type": "markdown",
   "metadata": {},
   "source": [
    "## Installation\n",
    "\n",
    "Below is a brief guide on how to install OpenAI Gym. For more details, please refer to the repository on [GitHub](https://github.com/openai/gym) and the [docs](https://gym.openai.com/docs).\n",
    "\n",
    "You can do a minimal install of the packaged version of Gym directly from PyPI:\n",
    "\n",
    "```\n",
    "pip install gym\n",
    "```\n",
    "\n",
    "Or you can perform a minimal install from GitHub:\n",
    "\n",
    "```\n",
    "git clone https://github.com/openai/gym.git\n",
    "cd gym\n",
    "pip install -e .\n",
    "```\n",
    "\n",
    "If you like, you can do a quick pip install of Gym in the cell below:"
   ]
  },
  {
   "cell_type": "code",
   "execution_count": 1,
   "metadata": {},
   "outputs": [
    {
     "name": "stdout",
     "output_type": "stream",
     "text": [
      "Requirement already satisfied: gym in c:\\software\\anaconda\\lib\\site-packages (0.21.0)\n",
      "Requirement already satisfied: cloudpickle>=1.2.0 in c:\\software\\anaconda\\lib\\site-packages (from gym) (1.6.0)\n",
      "Requirement already satisfied: numpy>=1.18.0 in c:\\software\\anaconda\\lib\\site-packages (from gym) (1.20.1)\n",
      "Requirement already satisfied: pyglet in c:\\software\\anaconda\\lib\\site-packages (1.5.21)\n"
     ]
    }
   ],
   "source": [
    "!pip install gym\n",
    "!pip install pyglet"
   ]
  },
  {
   "cell_type": "code",
   "execution_count": 2,
   "metadata": {},
   "outputs": [
    {
     "name": "stdout",
     "output_type": "stream",
     "text": [
      "^C\n"
     ]
    }
   ],
   "source": [
    "!conda install -c conda-forge ffmpeg"
   ]
  },
  {
   "cell_type": "markdown",
   "metadata": {},
   "source": [
    "You will also need an installation of `ffmpeg` locally. If you do not have it installed already, you can install it by one of the following commands depending on your system:\n",
    "\n",
    "```sudo apt-get install ffmpeg``` (Linux)\n",
    "\n",
    "```conda install -c conda-forge ffmpeg``` (Anaconda)"
   ]
  },
  {
   "cell_type": "markdown",
   "metadata": {},
   "source": [
    "## Running an environment\n",
    "\n",
    "Here is a bare minimum example of running a Gym environment. This creates an instance of the [CartPole-v0](https://gym.openai.com/envs/CartPole-v0) environment and runs until the rollout is done, taking random actions and rendering the environment at each step. With Gym installed, you should be able to see a small animation of the environment below.\n",
    "\n",
    "**Note:** you will likely not be able to render environments in a Google Colab instance. Therefore, it may be beneficial for you to run this week's notebooks locally and/or team up with another student if you do not have a local environment."
   ]
  },
  {
   "cell_type": "code",
   "execution_count": 1,
   "metadata": {},
   "outputs": [
    {
     "data": {
      "text/html": [
       "\n",
       "        <video width=\"360\" height=\"auto\" alt=\"test\" controls><source src=\"data:video/mp4;base64,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\" type=\"video/mp4\" /></video>"
      ],
      "text/plain": [
       "<IPython.core.display.HTML object>"
      ]
     },
     "execution_count": 1,
     "metadata": {},
     "output_type": "execute_result"
    }
   ],
   "source": [
    "import gym\n",
    "from gym import wrappers\n",
    "\n",
    "env = gym.make('CartPole-v0') # Create environment\n",
    "env = wrappers.Monitor(env, \"./gym-results\", force=True) # Create wrapper to display environment\n",
    "env.reset() # Reset environment\n",
    "\n",
    "# Run environment\n",
    "while True:\n",
    "    env.render() # Render environment\n",
    "    action = env.action_space.sample() # Get a random action\n",
    "    _, _, done, _ = env.step(action) # Take a step\n",
    "    if done: break # Break if environment is done\n",
    "\n",
    "env.close() # Close environment\n",
    "\n",
    "def show_replay():\n",
    "    \"\"\"\n",
    "    Not-so-elegant way to display the MP4 file generated by the Monitor wrapper inside a notebook.\n",
    "    The Monitor wrapper dumps the replay to a local file that we then display as a HTML video object.\n",
    "    \"\"\"\n",
    "    import io\n",
    "    import base64\n",
    "    from IPython.display import HTML\n",
    "    video = io.open('./gym-results/openaigym.video.%s.video000000.mp4' % env.file_infix, 'r+b').read()\n",
    "    encoded = base64.b64encode(video)\n",
    "    return HTML(data='''\n",
    "        <video width=\"360\" height=\"auto\" alt=\"test\" controls><source src=\"data:video/mp4;base64,{0}\" type=\"video/mp4\" /></video>'''\n",
    "    .format(encoded.decode('ascii')))\n",
    "    \n",
    "show_replay()"
   ]
  },
  {
   "cell_type": "markdown",
   "metadata": {},
   "source": [
    "Hooray! You now have a working `Gym` environment that we can take actions in and render."
   ]
  }
 ],
 "metadata": {
  "kernelspec": {
   "display_name": "Python 3",
   "language": "python",
   "name": "python3"
  },
  "language_info": {
   "codemirror_mode": {
    "name": "ipython",
    "version": 3
   },
   "file_extension": ".py",
   "mimetype": "text/x-python",
   "name": "python",
   "nbconvert_exporter": "python",
   "pygments_lexer": "ipython3",
   "version": "3.8.8"
  }
 },
 "nbformat": 4,
 "nbformat_minor": 2
}
